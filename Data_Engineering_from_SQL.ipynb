{
  "nbformat": 4,
  "nbformat_minor": 0,
  "metadata": {
    "colab": {
      "provenance": [],
      "authorship_tag": "ABX9TyNa8xCtTz+LFITc2ZGy5tJY",
      "include_colab_link": true
    },
    "kernelspec": {
      "name": "python3",
      "display_name": "Python 3"
    },
    "language_info": {
      "name": "python"
    }
  },
  "cells": [
    {
      "cell_type": "markdown",
      "metadata": {
        "id": "view-in-github",
        "colab_type": "text"
      },
      "source": [
        "<a href=\"https://colab.research.google.com/github/eaglebaba/ETL_PROCESS/blob/main/Data_Engineering_from_SQL.ipynb\" target=\"_parent\"><img src=\"https://colab.research.google.com/assets/colab-badge.svg\" alt=\"Open In Colab\"/></a>"
      ]
    },
    {
      "cell_type": "code",
      "source": [
        "from airflow import DAG\n",
        "from airflow.operators.python import PythonOperator\n",
        "from airflow.utils.dates import days_ago\n",
        "from datetime import timedelta\n",
        "import sqlite3\n",
        "\n",
        "# Define your Python function to run the SQL query and write to SQLite\n",
        "def run_sql_and_write_to_sqlite():\n",
        "    conn = sqlite3.connect('Trips.db')\n",
        "    cursor = conn.cursor()\n",
        "\n",
        "    sql_query = \"\"\"\n",
        "    SELECT\n",
        "    DATE_FORMAT(pickup_datetime, '%Y-%m') AS Month,\n",
        "    ROUND(AVG(CASE WHEN DAYOFWEEK(pickup_datetime) = 7 THEN 1 ELSE 0 END), 1) AS sat_mean_trip_count,\n",
        "    ROUND(AVG(CASE WHEN DAYOFWEEK(pickup_datetime) = 7 THEN fare_amount ELSE 0 END), 1) AS sat_mean_fare_per_trip,\n",
        "    ROUND(AVG(CASE WHEN DAYOFWEEK(pickup_datetime) = 7 THEN dropoff_datetime-pickup_datetime ELSE 0 END), 1) AS sat_mean_duration_per_trip,\n",
        "    ROUND(AVG(CASE WHEN DAYOFWEEK(pickup_datetime) = 1 THEN 1 ELSE 0 END), 1) AS sun_mean_trip_count,\n",
        "    ROUND(AVG(CASE WHEN DAYOFWEEK(pickup_datetime) = 1 THEN fare_amount ELSE 0 END), 1) AS sun_mean_fare_per_trip,\n",
        "    ROUND(AVG(CASE WHEN DAYOFWEEK(pickup_datetime) = 1 THEN dropoff_datetime-pickup_datetime ELSE 0 END), 1) AS sun_mean_duration_per_trip\n",
        "FROM tripdata\n",
        "WHERE pickup_datetime BETWEEN '2014-01-01 00:00:00' AND '2016-12-31 23:59:59'\n",
        "GROUP BY DATE_FORMAT(pickup_datetime, '%Y-%m')\n",
        "ORDER BY Month;\n",
        "\"\"\"\n",
        "\n",
        "\n",
        "    cursor.execute(sql_query)\n",
        "\n",
        "    # If 'tripdata' table already exists, you may want to delete or clear it before inserting new data\n",
        "    cursor.execute('DELETE FROM tripdata')\n",
        "\n",
        "    # Fetch the result of your SQL query and insert it into 'tripdata' table\n",
        "    result = cursor.fetchall()\n",
        "    cursor.executemany('INSERT INTO tripdata VALUES (?, ?, ?, ?, ?, ?, ?)', result)\n",
        "\n",
        "    conn.commit()\n",
        "    conn.close()\n",
        "\n",
        "# Define default arguments\n",
        "default_args = {\n",
        "    'owner': 'Michael_Adeyeye',\n",
        "    'start_date': days_ago(1),\n",
        "    'retries': 1,\n",
        "    'retry_delay': timedelta(minutes=5),\n",
        "}\n",
        "\n",
        "# Create a DAG\n",
        "dag = DAG(\n",
        "    'sqlite_data_pipeline',\n",
        "    default_args=default_args,\n",
        "    schedule_interval=None,\n",
        "    catchup=False,\n",
        "    tags=['any'],\n",
        ")\n",
        "\n",
        "# Task to run the Python function\n",
        "run_sql_task = PythonOperator(\n",
        "    task_id='run_sql_and_write_to_sqlite',\n",
        "    python_callable=run_sql_and_write_to_sqlite,\n",
        "    dag=dag,\n",
        ")\n",
        "\n",
        "run_sql_task  # Define task dependencies\n"
      ],
      "metadata": {
        "id": "1fxbQMd7mBL8"
      },
      "execution_count": null,
      "outputs": []
    },
    {
      "cell_type": "code",
      "source": [
        "!pip install airflow.providers.sqlite.operators.sqlite_to_sqlite"
      ],
      "metadata": {
        "id": "EITVnCQWkduZ"
      },
      "execution_count": null,
      "outputs": []
    },
    {
      "cell_type": "code",
      "execution_count": 1,
      "metadata": {
        "id": "fXsx79y_kJk-"
      },
      "outputs": [],
      "source": [
        "import sqlite3\n",
        "# Create or connect to an SQLite database\n",
        "conn = sqlite3.connect('Trips.db')\n",
        "# Create a cursor\n",
        "cursor = conn.cursor()\n",
        "# Create a table\n",
        "cursor.execute('''\n",
        "    CREATE TABLE tripdata (\n",
        "        Month TEXT,\n",
        "        sat_mean_trip_count REAL,\n",
        "        sat_mean_fare_per_trip REAL,\n",
        "        sat_mean_duration_per_trip REAL,\n",
        "        sun_mean_trip_count REAL,\n",
        "        sun_mean_fare_per_trip REAL,\n",
        "        sun_mean_duration_per_trip REAL\n",
        "    )\n",
        "''')\n",
        "#Commit the changes and close the connection\n",
        "conn.commit()\n",
        "conn.close()"
      ]
    }
  ]
}