{
  "nbformat": 4,
  "nbformat_minor": 0,
  "metadata": {
    "colab": {
      "provenance": [],
      "authorship_tag": "ABX9TyNa8xCtTz+LFITc2ZGy5tJY",
      "include_colab_link": true
    },
    "kernelspec": {
      "name": "python3",
      "display_name": "Python 3"
    },
    "language_info": {
      "name": "python"
    }
  },
  "cells": [
    {
      "cell_type": "markdown",
      "metadata": {
        "id": "view-in-github",
        "colab_type": "text"
      },
      "source": [
        "<a href=\"https://colab.research.google.com/github/eaglebaba/ETL_PROCESS/blob/main/Data_Engineering_from_SQL.ipynb\" target=\"_parent\"><img src=\"https://colab.research.google.com/assets/colab-badge.svg\" alt=\"Open In Colab\"/></a>"
      ]
    },
    {
      "cell_type": "code",
      "source": [
        "from airflow import DAG\n",
        "from airflow.operators.python import PythonOperator\n",
        "from airflow.utils.dates import days_ago\n",
        "from datetime import timedelta\n",
        "import sqlite3\n",
        "\n",
        "# Define your Python function to run the SQL query and write to SQLite\n",
        "def run_sql_and_write_to_sqlite():\n",
        "    conn = sqlite3.connect('Trips.db')\n",
        "    cursor = conn.cursor()\n",
        "\n",
        "    sql_query = \"\"\"\n",
        "    SELECT\n",
        "    DATE_FORMAT(pickup_datetime, '%Y-%m') AS Month,\n",
        "    ROUND(AVG(CASE WHEN DAYOFWEEK(pickup_datetime) = 7 THEN 1 ELSE 0 END), 1) AS sat_mean_trip_count,\n",
        "    ROUND(AVG(CASE WHEN DAYOFWEEK(pickup_datetime) = 7 THEN fare_amount ELSE 0 END), 1) AS sat_mean_fare_per_trip,\n",
        "    ROUND(AVG(CASE WHEN DAYOFWEEK(pickup_datetime) = 7 THEN dropoff_datetime-pickup_datetime ELSE 0 END), 1) AS sat_mean_duration_per_trip,\n",
        "    ROUND(AVG(CASE WHEN DAYOFWEEK(pickup_datetime) = 1 THEN 1 ELSE 0 END), 1) AS sun_mean_trip_count,\n",
        "    ROUND(AVG(CASE WHEN DAYOFWEEK(pickup_datetime) = 1 THEN fare_amount ELSE 0 END), 1) AS sun_mean_fare_per_trip,\n",
        "    ROUND(AVG(CASE WHEN DAYOFWEEK(pickup_datetime) = 1 THEN dropoff_datetime-pickup_datetime ELSE 0 END), 1) AS sun_mean_duration_per_trip\n",
        "FROM tripdata\n",
        "WHERE pickup_datetime BETWEEN '2014-01-01 00:00:00' AND '2016-12-31 23:59:59'\n",
        "GROUP BY DATE_FORMAT(pickup_datetime, '%Y-%m')\n",
        "ORDER BY Month;\n",
        "\"\"\"\n",
        "\n",
        "\n",
        "    cursor.execute(sql_query)\n",
        "\n",
        "    # If 'tripdata' table already exists, you may want to delete or clear it before inserting new data\n",
        "    cursor.execute('DELETE FROM tripdata')\n",
        "\n",
        "    # Fetch the result of your SQL query and insert it into 'tripdata' table\n",
        "    result = cursor.fetchall()\n",
        "    cursor.executemany('INSERT INTO tripdata VALUES (?, ?, ?, ?, ?, ?, ?)', result)\n",
        "\n",
        "    conn.commit()\n",
        "    conn.close()\n",
        "\n",
        "# Define default arguments\n",
        "default_args = {\n",
        "    'owner': 'Michael_Adeyeye',\n",
        "    'start_date': days_ago(1),\n",
        "    'retries': 1,\n",
        "    'retry_delay': timedelta(minutes=5),\n",
        "}\n",
        "\n",
        "# Create a DAG\n",
        "dag = DAG(\n",
        "    'sqlite_data_pipeline',\n",
        "    default_args=default_args,\n",
        "    schedule_interval=None,\n",
        "    catchup=False,\n",
        "    tags=['any'],\n",
        ")\n",
        "\n",
        "# Task to run the Python function\n",
        "run_sql_task = PythonOperator(\n",
        "    task_id='run_sql_and_write_to_sqlite',\n",
        "    python_callable=run_sql_and_write_to_sqlite,\n",
        "    dag=dag,\n",
        ")\n",
        "\n",
        "run_sql_task  # Define task dependencies\n"
      ],
      "metadata": {
        "colab": {
          "base_uri": "https://localhost:8080/",
          "height": 100
        },
        "id": "1fxbQMd7mBL8",
        "outputId": "09944856-2b3a-424b-d6b6-3b0ce1389a8f"
      },
      "execution_count": null,
      "outputs": [
        {
          "output_type": "display_data",
          "data": {
            "text/plain": [
              "\u001b[1;33m<\u001b[0m\u001b[1;33mipython-input-\u001b[0m\u001b[1;33m8\u001b[0m\u001b[1;33m-b879601d94d8\u001b[0m\u001b[1;33m>\u001b[0m\u001b[1;33m:\u001b[0m\u001b[1;33m43\u001b[0m\u001b[1;33m RemovedInAirflow3Warning\u001b[0m\u001b[33m: Function `days_ago` is deprecated and will be removed in Airflow \u001b[0m\u001b[1;33m3.0\u001b[0m\u001b[33m. You can achieve equivalent behavior with `\u001b[0m\u001b[1;33mpendulum.today\u001b[0m\u001b[1;33m(\u001b[0m\u001b[33m'UTC'\u001b[0m\u001b[1;33m)\u001b[0m\u001b[1;33m.add\u001b[0m\u001b[1;33m(\u001b[0m\u001b[33mdays\u001b[0m\u001b[33m=-N, \u001b[0m\u001b[33m...\u001b[0m\u001b[1;33m)\u001b[0m\u001b[33m`\u001b[0m\n"
            ],
            "text/html": [
              "<pre style=\"white-space:pre;overflow-x:auto;line-height:normal;font-family:Menlo,'DejaVu Sans Mono',consolas,'Courier New',monospace\"><span style=\"color: #808000; text-decoration-color: #808000; font-weight: bold\">&lt;ipython-input-</span><span style=\"color: #808000; text-decoration-color: #808000; font-weight: bold\">8</span><span style=\"color: #808000; text-decoration-color: #808000; font-weight: bold\">-b879601d94d8&gt;:</span><span style=\"color: #808000; text-decoration-color: #808000; font-weight: bold\">43</span><span style=\"color: #808000; text-decoration-color: #808000; font-weight: bold\"> RemovedInAirflow3Warning</span><span style=\"color: #808000; text-decoration-color: #808000\">: Function `days_ago` is deprecated and will be removed in Airflow </span><span style=\"color: #808000; text-decoration-color: #808000; font-weight: bold\">3.0</span><span style=\"color: #808000; text-decoration-color: #808000\">. You can achieve equivalent behavior with `</span><span style=\"color: #808000; text-decoration-color: #808000; font-weight: bold\">pendulum.today(</span><span style=\"color: #808000; text-decoration-color: #808000\">'UTC'</span><span style=\"color: #808000; text-decoration-color: #808000; font-weight: bold\">).add(</span><span style=\"color: #808000; text-decoration-color: #808000\">days</span><span style=\"color: #808000; text-decoration-color: #808000\">=-N, ...</span><span style=\"color: #808000; text-decoration-color: #808000; font-weight: bold\">)</span><span style=\"color: #808000; text-decoration-color: #808000\">`</span>\n",
              "</pre>\n"
            ]
          },
          "metadata": {}
        },
        {
          "output_type": "display_data",
          "data": {
            "text/plain": [
              "\u001b[1;33m<\u001b[0m\u001b[1;33mipython-input-\u001b[0m\u001b[1;33m8\u001b[0m\u001b[1;33m-b879601d94d8\u001b[0m\u001b[1;33m>\u001b[0m\u001b[1;33m:\u001b[0m\u001b[1;33m49\u001b[0m\u001b[1;33m RemovedInAirflow3Warning\u001b[0m\u001b[33m: Param `schedule_interval` is deprecated and will be removed in a future release. Please use `schedule` instead.\u001b[0m\n"
            ],
            "text/html": [
              "<pre style=\"white-space:pre;overflow-x:auto;line-height:normal;font-family:Menlo,'DejaVu Sans Mono',consolas,'Courier New',monospace\"><span style=\"color: #808000; text-decoration-color: #808000; font-weight: bold\">&lt;ipython-input-</span><span style=\"color: #808000; text-decoration-color: #808000; font-weight: bold\">8</span><span style=\"color: #808000; text-decoration-color: #808000; font-weight: bold\">-b879601d94d8&gt;:</span><span style=\"color: #808000; text-decoration-color: #808000; font-weight: bold\">49</span><span style=\"color: #808000; text-decoration-color: #808000; font-weight: bold\"> RemovedInAirflow3Warning</span><span style=\"color: #808000; text-decoration-color: #808000\">: Param `schedule_interval` is deprecated and will be removed in a future release. Please use `schedule` instead.</span>\n",
              "</pre>\n"
            ]
          },
          "metadata": {}
        },
        {
          "output_type": "execute_result",
          "data": {
            "text/plain": [
              "<Task(PythonOperator): run_sql_and_write_to_sqlite>"
            ]
          },
          "metadata": {},
          "execution_count": 8
        }
      ]
    },
    {
      "cell_type": "code",
      "source": [
        "!pip install airflow.providers.sqlite.operators.sqlite_to_sqlite"
      ],
      "metadata": {
        "colab": {
          "base_uri": "https://localhost:8080/"
        },
        "id": "EITVnCQWkduZ",
        "outputId": "71aaa36f-cf3d-4337-a3a6-5b299d641aa3"
      },
      "execution_count": null,
      "outputs": [
        {
          "output_type": "stream",
          "name": "stdout",
          "text": [
            "\u001b[31mERROR: Could not find a version that satisfies the requirement airflow.providers.sqlite.operators.sqlite_to_sqlite (from versions: none)\u001b[0m\u001b[31m\n",
            "\u001b[0m\u001b[31mERROR: No matching distribution found for airflow.providers.sqlite.operators.sqlite_to_sqlite\u001b[0m\u001b[31m\n",
            "\u001b[0m"
          ]
        }
      ]
    },
    {
      "cell_type": "code",
      "execution_count": null,
      "metadata": {
        "id": "fXsx79y_kJk-"
      },
      "outputs": [],
      "source": [
        "import sqlite3\n",
        "# Create or connect to an SQLite database\n",
        "conn = sqlite3.connect('Trips.db')\n",
        "# Create a cursor\n",
        "cursor = conn.cursor()\n",
        "# Create a table\n",
        "cursor.execute('''\n",
        "    CREATE TABLE tripdata (\n",
        "        Month TEXT,\n",
        "        sat_mean_trip_count REAL,\n",
        "        sat_mean_fare_per_trip REAL,\n",
        "        sat_mean_duration_per_trip REAL,\n",
        "        sun_mean_trip_count REAL,\n",
        "        sun_mean_fare_per_trip REAL,\n",
        "        sun_mean_duration_per_trip REAL\n",
        "    )\n",
        "''')\n",
        "#Commit the changes and close the connection\n",
        "conn.commit()\n",
        "conn.close()"
      ]
    }
  ]
}